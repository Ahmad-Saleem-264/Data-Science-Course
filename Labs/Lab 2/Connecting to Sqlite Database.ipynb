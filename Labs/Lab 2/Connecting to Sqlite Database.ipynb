{
 "cells": [
  {
   "cell_type": "markdown",
   "metadata": {},
   "source": [
    "#### Import Libraries"
   ]
  },
  {
   "cell_type": "code",
   "execution_count": 1,
   "metadata": {
    "collapsed": true
   },
   "outputs": [],
   "source": [
    "# library for data analysis\n",
    "import pandas as pd\n",
    "\n",
    "# library for visualizations\n",
    "import matplotlib.pyplot as plt\n",
    "\n",
    "# library for connecting to databases \n",
    "import sqlite3"
   ]
  },
  {
   "cell_type": "markdown",
   "metadata": {},
   "source": [
    "#### Connect To A Database"
   ]
  },
  {
   "cell_type": "code",
   "execution_count": 2,
   "metadata": {
    "collapsed": true
   },
   "outputs": [],
   "source": [
    "# connecting to the database\n",
    "conn = sqlite3.connect('database.sqlite')\n",
    "\n",
    "# making a cursor object\n",
    "c = conn.cursor()"
   ]
  },
  {
   "cell_type": "markdown",
   "metadata": {},
   "source": [
    "#### Execute Queries"
   ]
  },
  {
   "cell_type": "code",
   "execution_count": 4,
   "metadata": {},
   "outputs": [
    {
     "name": "stdout",
     "output_type": "stream",
     "text": [
      "(1, 'Bangalore', 1)\n",
      "(2, 'Chandigarh', 1)\n",
      "(3, 'Delhi', 1)\n",
      "(4, 'Mumbai', 1)\n",
      "(5, 'Kolkata', 1)\n",
      "(6, 'Jaipur', 1)\n",
      "(7, 'Hyderabad', 1)\n",
      "(8, 'Chennai', 1)\n",
      "(9, 'Cape Town', 2)\n",
      "(10, 'Port Elizabeth', 2)\n",
      "(11, 'Durban', 2)\n",
      "(12, 'Centurion', 2)\n",
      "(13, 'East London', 2)\n",
      "(14, 'Johannesburg', 2)\n",
      "(15, 'Kimberley', 2)\n",
      "(16, 'Bloemfontein', 2)\n",
      "(17, 'Ahmedabad', 1)\n",
      "(18, 'Cuttack', 1)\n",
      "(19, 'Nagpur', 1)\n",
      "(20, 'Dharamsala', 1)\n",
      "(21, 'Kochi', 1)\n",
      "(22, 'Indore', 1)\n",
      "(23, 'Visakhapatnam', 1)\n",
      "(24, 'Pune', 1)\n",
      "(25, 'Raipur', 1)\n",
      "(26, 'Ranchi', 1)\n",
      "(27, 'Abu Dhabi', 3)\n",
      "(28, 'Rajkot', 1)\n",
      "(29, 'Kanpur', 1)\n"
     ]
    }
   ],
   "source": [
    "# execute command can take any query and execute it\n",
    "c.execute('select * from city')\n",
    "\n",
    "# no data is fetched until we call fetchall() method\n",
    "data = c.fetchall()\n",
    "\n",
    "for row in data:\n",
    "    print(row)"
   ]
  },
  {
   "cell_type": "markdown",
   "metadata": {},
   "source": [
    "#### Convert to a Pandas Dataframe"
   ]
  },
  {
   "cell_type": "code",
   "execution_count": 10,
   "metadata": {},
   "outputs": [
    {
     "name": "stdout",
     "output_type": "stream",
     "text": [
      "<class 'pandas.core.frame.DataFrame'>\n"
     ]
    },
    {
     "data": {
      "text/html": [
       "<div>\n",
       "<style scoped>\n",
       "    .dataframe tbody tr th:only-of-type {\n",
       "        vertical-align: middle;\n",
       "    }\n",
       "\n",
       "    .dataframe tbody tr th {\n",
       "        vertical-align: top;\n",
       "    }\n",
       "\n",
       "    .dataframe thead th {\n",
       "        text-align: right;\n",
       "    }\n",
       "</style>\n",
       "<table border=\"1\" class=\"dataframe\">\n",
       "  <thead>\n",
       "    <tr style=\"text-align: right;\">\n",
       "      <th></th>\n",
       "      <th>City_Id</th>\n",
       "      <th>City_Name</th>\n",
       "      <th>Country_id</th>\n",
       "    </tr>\n",
       "  </thead>\n",
       "  <tbody>\n",
       "    <tr>\n",
       "      <th>0</th>\n",
       "      <td>1</td>\n",
       "      <td>Bangalore</td>\n",
       "      <td>1</td>\n",
       "    </tr>\n",
       "    <tr>\n",
       "      <th>1</th>\n",
       "      <td>2</td>\n",
       "      <td>Chandigarh</td>\n",
       "      <td>1</td>\n",
       "    </tr>\n",
       "    <tr>\n",
       "      <th>2</th>\n",
       "      <td>3</td>\n",
       "      <td>Delhi</td>\n",
       "      <td>1</td>\n",
       "    </tr>\n",
       "    <tr>\n",
       "      <th>3</th>\n",
       "      <td>4</td>\n",
       "      <td>Mumbai</td>\n",
       "      <td>1</td>\n",
       "    </tr>\n",
       "    <tr>\n",
       "      <th>4</th>\n",
       "      <td>5</td>\n",
       "      <td>Kolkata</td>\n",
       "      <td>1</td>\n",
       "    </tr>\n",
       "  </tbody>\n",
       "</table>\n",
       "</div>"
      ],
      "text/plain": [
       "   City_Id   City_Name  Country_id\n",
       "0        1   Bangalore           1\n",
       "1        2  Chandigarh           1\n",
       "2        3       Delhi           1\n",
       "3        4      Mumbai           1\n",
       "4        5     Kolkata           1"
      ]
     },
     "execution_count": 10,
     "metadata": {},
     "output_type": "execute_result"
    }
   ],
   "source": [
    "# read_sql_query() takes a query and converts the output to pandas dataframe\n",
    "df = pd.read_sql_query('select * from city', conn )\n",
    "\n",
    "# printing the contents of dataframe\n",
    "print( type(df) )\n",
    "df.head()"
   ]
  },
  {
   "cell_type": "code",
   "execution_count": 11,
   "metadata": {
    "collapsed": true
   },
   "outputs": [],
   "source": [
    "# closing the connection at the end\n",
    "conn.close()"
   ]
  },
  {
   "cell_type": "code",
   "execution_count": null,
   "metadata": {
    "collapsed": true
   },
   "outputs": [],
   "source": []
  }
 ],
 "metadata": {
  "kernelspec": {
   "display_name": "Python 3",
   "language": "python",
   "name": "python3"
  },
  "language_info": {
   "codemirror_mode": {
    "name": "ipython",
    "version": 3
   },
   "file_extension": ".py",
   "mimetype": "text/x-python",
   "name": "python",
   "nbconvert_exporter": "python",
   "pygments_lexer": "ipython3",
   "version": "3.6.1"
  }
 },
 "nbformat": 4,
 "nbformat_minor": 2
}
